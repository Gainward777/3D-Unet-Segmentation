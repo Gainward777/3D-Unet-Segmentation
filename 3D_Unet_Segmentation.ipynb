{
  "nbformat": 4,
  "nbformat_minor": 0,
  "metadata": {
    "colab": {
      "provenance": [],
      "toc_visible": true,
      "gpuType": "T4",
      "mount_file_id": "1dxDAFKWpbWdTNx7W0kWf8Z0dyG8t7GP8",
      "authorship_tag": "ABX9TyNjyDoDr2+OqpolJiPMBAz9",
      "include_colab_link": true
    },
    "kernelspec": {
      "name": "python3",
      "display_name": "Python 3"
    },
    "language_info": {
      "name": "python"
    },
    "accelerator": "GPU"
  },
  "cells": [
    {
      "cell_type": "markdown",
      "metadata": {
        "id": "view-in-github",
        "colab_type": "text"
      },
      "source": [
        "<a href=\"https://colab.research.google.com/github/Gainward777/3D-Unet-Segmentation/blob/main/3D_Unet_Segmentation.ipynb\" target=\"_parent\"><img src=\"https://colab.research.google.com/assets/colab-badge.svg\" alt=\"Open In Colab\"/></a>"
      ]
    },
    {
      "cell_type": "markdown",
      "source": [
        "#3D-Unet Sandstone Segmantation (Keras)"
      ],
      "metadata": {
        "id": "hlPSTlNCzJ43"
      }
    },
    {
      "cell_type": "code",
      "source": [
        "#@title Load libs\n",
        "#load patchify to break large volumes into smaller for training \n",
        "!pip install patchify\n",
        "\n",
        "from keras.models import Model\n",
        "from keras.layers import Input, Conv3D, MaxPooling3D, UpSampling3D, concatenate, Conv3DTranspose, BatchNormalization, Dropout, Lambda\n",
        "from keras.optimizers import Adam\n",
        "from keras.layers import Activation, MaxPool2D, Concatenate\n",
        "from skimage import io\n",
        "from patchify import patchify, unpatchify\n",
        "import numpy as np\n",
        "from matplotlib import pyplot as plt\n",
        "from keras import backend as K\n",
        "from tensorflow.keras.utils import to_categorical\n",
        "from sklearn.model_selection import train_test_split\n",
        "import tensorflow as tf\n",
        "from keras.models import load_model\n",
        "import random"
      ],
      "metadata": {
        "colab": {
          "base_uri": "https://localhost:8080/"
        },
        "id": "g7qbMHmSzLhQ",
        "outputId": "3e43bfcf-6ace-4fba-ccb0-40ab94f0222e",
        "cellView": "form"
      },
      "execution_count": 1,
      "outputs": [
        {
          "output_type": "stream",
          "name": "stdout",
          "text": [
            "Looking in indexes: https://pypi.org/simple, https://us-python.pkg.dev/colab-wheels/public/simple/\n",
            "Collecting patchify\n",
            "  Downloading patchify-0.2.3-py3-none-any.whl (6.6 kB)\n",
            "Requirement already satisfied: numpy<2,>=1 in /usr/local/lib/python3.10/dist-packages (from patchify) (1.22.4)\n",
            "Installing collected packages: patchify\n",
            "Successfully installed patchify-0.2.3\n"
          ]
        }
      ]
    },
    {
      "cell_type": "markdown",
      "source": [
        "##Create Model"
      ],
      "metadata": {
        "id": "ueBi2rFSIYqW"
      }
    },
    {
      "cell_type": "code",
      "source": [
        "#@title Loss and metric\n",
        "def iou(y_true, y_pred):\n",
        "    flat_y_true = K.flatten(y_true)\n",
        "    flat_y_pred = K.flatten(y_pred)\n",
        "    smoothing_factor=0.00001\n",
        "    return (K.sum(flat_y_true * flat_y_pred) + smoothing_factor) / (K.sum(flat_y_true) + K.sum(flat_y_pred) + smoothing_factor)\n",
        "\n",
        "def dice_loss(y_true, y_pred):\n",
        "    return 1-(2.*iou(y_true, y_pred))"
      ],
      "metadata": {
        "id": "oZ4f_rbNDdAq",
        "cellView": "form"
      },
      "execution_count": 2,
      "outputs": []
    },
    {
      "cell_type": "code",
      "source": [
        "#@title Create model class\n",
        "class Unet3D():\n",
        "\n",
        "  def __init__(self, input_shape, n_classes, start_filters, kernel):\n",
        "      self.input_shape=input_shape\n",
        "      self.n_classes=n_classes\n",
        "      self.start_filters=start_filters\n",
        "      self.kernel=kernel\n",
        "\n",
        "  def build_model(self):\n",
        "\n",
        "      def conv(input, num_filters, kernel):\n",
        "          x = Conv3D(num_filters, kernel, padding=\"same\")(input)\n",
        "          x = BatchNormalization()(x)   #Not in the original network. \n",
        "          x = Activation(\"relu\")(x)\n",
        "\n",
        "          x = Conv3D(num_filters, kernel, padding=\"same\")(x)\n",
        "          x = BatchNormalization()(x)  #Not in the original network\n",
        "          x = Activation(\"relu\")(x)\n",
        "\n",
        "          return x\n",
        "\n",
        "      def encoder(input, num_filters, kernel):\n",
        "          x = conv(input, num_filters, kernel)\n",
        "          p = MaxPooling3D((2, 2, 2))(x)\n",
        "          return x, p\n",
        "\n",
        "      def decoder(input, skip_features, num_filters, kernel):\n",
        "          x = Conv3DTranspose(num_filters, (2, 2, 2), strides=2, padding=\"same\")(input)\n",
        "          x = Concatenate()([x, skip_features])\n",
        "          x = conv(x, num_filters, kernel)\n",
        "          return x\n",
        "\n",
        "\n",
        "      inputs = Input(self.input_shape)\n",
        "\n",
        "      filters=self.start_filters\n",
        "\n",
        "      first_skip, out = encoder(inputs, self.start_filters, self.kernel)\n",
        "      second_skip, out = encoder(out, self.start_filters*2, self.kernel)\n",
        "      third_skip, out = encoder(out, self.start_filters*4, self.kernel)\n",
        "      fourth_skip, out = encoder(out, self.start_filters*8, self.kernel)\n",
        "\n",
        "      out = conv(out, self.start_filters*16, self.kernel) #Bridge\n",
        "\n",
        "      out = decoder(out, fourth_skip, self.start_filters*8, self.kernel)\n",
        "      out = decoder(out, third_skip, self.start_filters*4, self.kernel)\n",
        "      out = decoder(out, second_skip, self.start_filters*2, self.kernel)\n",
        "      out = decoder(out, first_skip, self.start_filters, self.kernel)\n",
        "\n",
        "      if self.n_classes == 1:  #Binary\n",
        "        activation = 'sigmoid'\n",
        "      else:\n",
        "        activation = 'softmax'\n",
        "\n",
        "      out = Conv3D(self.n_classes, 1, padding=\"same\", activation=activation)(out)  \n",
        "      print(activation)\n",
        "\n",
        "      model = Model(inputs, out, name=\"U-Net\")\n",
        "      return model  "
      ],
      "metadata": {
        "id": "WRCX0XvNznUE",
        "cellView": "form"
      },
      "execution_count": 3,
      "outputs": []
    },
    {
      "cell_type": "code",
      "source": [
        "#@title Load lodel and check GPU\n",
        "model = Unet3D((64,64,64,3), n_classes=4, start_filters=64, kernel=3)\n",
        "model=model.build_model()\n",
        "model.compile(optimizer = Adam(0.0001), loss=dice_loss, metrics=iou)\n",
        "\n",
        "device_name = tf.test.gpu_device_name()\n",
        "if device_name != '/device:GPU:0':\n",
        "  raise SystemError('GPU device not found')\n",
        "print('Found GPU at: {}'.format(device_name))"
      ],
      "metadata": {
        "id": "y_SnZ1_A5SIV",
        "colab": {
          "base_uri": "https://localhost:8080/"
        },
        "cellView": "form",
        "outputId": "31c3aaa5-7298-485d-c564-2ad4d4721c48"
      },
      "execution_count": 4,
      "outputs": [
        {
          "output_type": "stream",
          "name": "stdout",
          "text": [
            "softmax\n",
            "Found GPU at: /device:GPU:0\n"
          ]
        }
      ]
    },
    {
      "cell_type": "markdown",
      "source": [
        "##Load data"
      ],
      "metadata": {
        "id": "riRHUGZz_acj"
      }
    },
    {
      "cell_type": "code",
      "source": [
        "#@title Load input images and masks. \n",
        "#break it from 256x256x256 to 64x64x64 for training. \n",
        "image = io.imread('/content/drive/MyDrive/sandstone_data_for_ML/data_for_3D_Unet/train_images_256_256_256.tif')\n",
        "img_patches = patchify(image, (64, 64, 64), step=64)  \n",
        "\n",
        "mask = io.imread('/content/drive/MyDrive/sandstone_data_for_ML/data_for_3D_Unet/train_masks_256_256_256.tif')\n",
        "mask_patches = patchify(mask, (64, 64, 64), step=64)  "
      ],
      "metadata": {
        "id": "FFy-yYd1_iGo",
        "cellView": "form"
      },
      "execution_count": 5,
      "outputs": []
    },
    {
      "cell_type": "code",
      "source": [
        "#@title Look at img\n",
        "plt.imshow(img_patches[1,2,3,:,:,32])"
      ],
      "metadata": {
        "colab": {
          "base_uri": "https://localhost:8080/",
          "height": 450
        },
        "id": "VXlwFu88_p0N",
        "outputId": "6b8d1cf3-1b80-47bf-be8a-b309320f74aa",
        "cellView": "form"
      },
      "execution_count": 6,
      "outputs": [
        {
          "output_type": "execute_result",
          "data": {
            "text/plain": [
              "<matplotlib.image.AxesImage at 0x7f75602342e0>"
            ]
          },
          "metadata": {},
          "execution_count": 6
        },
        {
          "output_type": "display_data",
          "data": {
            "text/plain": [
              "<Figure size 640x480 with 1 Axes>"
            ],
            "image/png": "[encoded data removed]"
          },
          "metadata": {}
        }
      ]
    },
    {
      "cell_type": "code",
      "source": [
        "#@title Look at mask\n",
        "plt.imshow(mask_patches[1,2,3,:,:,32])"
      ],
      "metadata": {
        "colab": {
          "base_uri": "https://localhost:8080/",
          "height": 450
        },
        "id": "OH6tn3SC_uY1",
        "outputId": "07b4d85a-70fc-42e8-bbd9-84ae4e0180de",
        "cellView": "form"
      },
      "execution_count": 7,
      "outputs": [
        {
          "output_type": "execute_result",
          "data": {
            "text/plain": [
              "<matplotlib.image.AxesImage at 0x7f74e2de13c0>"
            ]
          },
          "metadata": {},
          "execution_count": 7
        },
        {
          "output_type": "display_data",
          "data": {
            "text/plain": [
              "<Figure size 640x480 with 1 Axes>"
            ],
            "image/png": "[encoded data removed]"
          },
          "metadata": {}
        }
      ]
    },
    {
      "cell_type": "code",
      "source": [
        "#@title Convert input\n",
        "#Convert grey image to 3 channels by copying channel 3 times because model expect 3 chanel input. \n",
        "\n",
        "input_img = np.reshape(img_patches, (-1, img_patches.shape[3], img_patches.shape[4], img_patches.shape[5]))\n",
        "input_mask = np.reshape(mask_patches, (-1, mask_patches.shape[3], mask_patches.shape[4], mask_patches.shape[5]))\n",
        "\n",
        "n_classes=4\n",
        "\n",
        "train_img = np.stack((input_img,)*3, axis=-1)\n",
        "train_img = train_img / 255. \n",
        "train_mask = np.expand_dims(input_mask, axis=4)\n",
        "\n",
        "\n",
        "train_mask_cat = to_categorical(train_mask, num_classes=n_classes)\n",
        "\n",
        "\n",
        "X_train, X_test, y_train, y_test = train_test_split(train_img, train_mask_cat, test_size = 0.10, random_state = 0)"
      ],
      "metadata": {
        "id": "uuLxFvm0_2C7",
        "cellView": "form"
      },
      "execution_count": 8,
      "outputs": []
    },
    {
      "cell_type": "markdown",
      "source": [
        "##Train"
      ],
      "metadata": {
        "id": "i02koQQa_f-o"
      }
    },
    {
      "cell_type": "code",
      "source": [
        "#@title Train\n",
        "history=model.fit(X_train, \n",
        "          y_train,\n",
        "          batch_size=8, \n",
        "          epochs=130, #100\n",
        "          verbose=1,\n",
        "          validation_data=(X_test, y_test))"
      ],
      "metadata": {
        "id": "RvLPqBN1-Kup",
        "cellView": "form"
      },
      "execution_count": null,
      "outputs": []
    },
    {
      "cell_type": "code",
      "source": [
        "#@title Save model\n",
        "model.save('/content/drive/MyDrive/sandstone_data_for_ML/sandstone_3D_130epochs.h5')"
      ],
      "metadata": {
        "cellView": "form",
        "id": "ndHpglbUnCJi"
      },
      "execution_count": 14,
      "outputs": []
    },
    {
      "cell_type": "code",
      "source": [
        "#@title Сharts\n",
        "loss = history.history['loss']\n",
        "val_loss = history.history['val_loss']\n",
        "epochs = range(1, len(loss) + 1)\n",
        "plt.plot(epochs, loss, 'y', label='Training loss')\n",
        "plt.plot(epochs, val_loss, 'r', label='Validation loss')\n",
        "plt.title('Training and validation loss')\n",
        "plt.xlabel('Epochs')\n",
        "plt.ylabel('Loss')\n",
        "plt.legend()\n",
        "plt.show()\n",
        "\n",
        "acc = history.history['iou']\n",
        "val_acc = history.history['val_iou']\n",
        "\n",
        "plt.plot(epochs, acc, 'y', label='Training IOU')\n",
        "plt.plot(epochs, val_acc, 'r', label='Validation IOU')\n",
        "plt.title('Training and validation IOU')\n",
        "plt.xlabel('Epochs')\n",
        "plt.ylabel('IOU')\n",
        "plt.legend()\n",
        "plt.show()"
      ],
      "metadata": {
        "cellView": "form",
        "id": "MLgrCGtlns_3"
      },
      "execution_count": null,
      "outputs": []
    },
    {
      "cell_type": "markdown",
      "source": [
        "##Test"
      ],
      "metadata": {
        "id": "HDOr8IrEpnYd"
      }
    },
    {
      "cell_type": "code",
      "source": [
        "#@title Load model\n",
        "my_model = load_model('/content/drive/MyDrive/Colab Notebooks/sandstone_data_for_ML/sandstone_3D_130epochs.h5', compile=False)"
      ],
      "metadata": {
        "cellView": "form",
        "id": "_qyeO3SXuVsn"
      },
      "execution_count": null,
      "outputs": []
    },
    {
      "cell_type": "code",
      "source": [
        "#@title Test\n",
        "y_pred=model.predict(X_test)\n",
        "print(f'Test acc: {iou(y_test, y_pred).numpy()}')"
      ],
      "metadata": {
        "cellView": "form",
        "id": "hyUe2L1kpmVG"
      },
      "execution_count": null,
      "outputs": []
    },
    {
      "cell_type": "code",
      "source": [
        "#@title Have a look at random test result\n",
        "test_img_number = random.randint(0, len(X_test))\n",
        "test_img = X_test[test_img_number]\n",
        "ground_truth=y_test[test_img_number]\n",
        "\n",
        "test_img_input=np.expand_dims(test_img, 0)\n",
        "\n",
        "\n",
        "test_pred = model.predict(test_img_input)\n",
        "test_prediction = np.argmax(test_pred, axis=4)[0,:,:,:]\n",
        "\n",
        "ground_truth_argmax = np.argmax(ground_truth, axis=3)\n",
        "\n",
        "#Plot individual slices from test predictions for verification\n",
        "slice = random.randint(0, ground_truth_argmax.shape[2]-1)\n",
        "plt.figure(figsize=(12, 8))\n",
        "plt.subplot(231)\n",
        "plt.title('Testing Image')\n",
        "plt.imshow(test_img[slice,:,:,0], cmap='gray')\n",
        "plt.subplot(232)\n",
        "plt.title('Testing Label')\n",
        "plt.imshow(ground_truth_argmax[slice,:,:])\n",
        "plt.subplot(233)\n",
        "plt.title('Prediction on test image')\n",
        "plt.imshow(test_prediction[slice,:,:])\n",
        "plt.show()"
      ],
      "metadata": {
        "cellView": "form",
        "id": "Aia_pQ2qstzT"
      },
      "execution_count": null,
      "outputs": []
    }
  ]
}